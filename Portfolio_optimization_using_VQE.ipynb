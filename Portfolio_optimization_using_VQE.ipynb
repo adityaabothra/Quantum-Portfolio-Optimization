{
  "nbformat": 4,
  "nbformat_minor": 0,
  "metadata": {
    "colab": {
      "name": "Portfolio_opti.ipynb",
      "provenance": [],
      "collapsed_sections": []
    },
    "kernelspec": {
      "display_name": "Python 3",
      "language": "python",
      "name": "python3"
    },
    "language_info": {
      "codemirror_mode": {
        "name": "ipython",
        "version": 3
      },
      "file_extension": ".py",
      "mimetype": "text/x-python",
      "name": "python",
      "nbconvert_exporter": "python",
      "pygments_lexer": "ipython3",
      "version": "3.8.3"
    }
  },
  "cells": [
    {
      "cell_type": "code",
      "metadata": {
        "id": "dj4Qxan7VI-f"
      },
      "source": [
        "! pip install qiskit"
      ],
      "execution_count": null,
      "outputs": []
    },
    {
      "cell_type": "code",
      "metadata": {
        "id": "FRj8lY3lmls3"
      },
      "source": [
        "! pip install quandl"
      ],
      "execution_count": null,
      "outputs": []
    },
    {
      "cell_type": "code",
      "metadata": {
        "id": "yxjuIS9VVFrJ"
      },
      "source": [
        "from qiskit import BasicAer\n",
        "from qiskit.circuit.library import TwoLocal\n",
        "# from qiskit.aqua import QuantumInstance\n",
        "from qiskit.finance.applications.ising import portfolio\n",
        "from qiskit.optimization.applications.ising.common import sample_most_likely\n",
        "from qiskit.finance.data_providers import WikipediaDataProvider, DataOnDemandProvider\n",
        "from qiskit.aqua.algorithms import VQE, QAOA, NumPyMinimumEigensolver\n",
        "from qiskit.optimization.algorithms import MinimumEigenOptimizer\n",
        "from qiskit.aqua.components.optimizers import COBYLA\n",
        "import numpy as np\n",
        "import datetime\n",
        "from docplex.mp.model import Model\n",
        "from qiskit.optimization import QuadraticProgram\n",
        "from qiskit.optimization.converters import LinearEqualityToPenalty\n",
        "from qiskit.optimization import QuadraticProgram\n",
        "from qiskit.optimization.converters import QuadraticProgramToIsing\n",
        "from qiskit.optimization.converters import IntegerToBinary\n",
        "from qiskit.optimization.converters import InequalityToEquality\n",
        "import itertools\n",
        "import quandl\n",
        "import datetime\n",
        "import matplotlib.pyplot as plt\n",
        "from pandas.plotting import register_matplotlib_converters\n",
        "register_matplotlib_converters()\n",
        "\n",
        "quandl.ApiConfig.api_key = 'jw64yRHHgx8L-cYm_8_3'"
      ],
      "execution_count": null,
      "outputs": []
    },
    {
      "cell_type": "code",
      "metadata": {
        "id": "AKBnxvlXVGk4"
      },
      "source": [
        "# Oracle is ORCL, Accenture is ACN, Hewlett Packard Enterprise is HPE, Cognizant is CTSH and Microsoft Corporation is MSFT\n",
        "\n",
        "stocks = [\"IBM\",\"MSFT\",\"ACN\",\"ORCL\",\"HPE\",\"TCS\",\"CTSH\"]\n",
        "\n",
        "# Extract free available stock price data from quandl, from 01.01.2016 to 31.12.2017\n",
        "\n",
        "data = WikipediaDataProvider(token='jw64yRHHgx8L-cYm_8_3',tickers=stocks, start=datetime.datetime(2016,1,1), end=datetime.datetime(2017,12,31))\n",
        "data.run()\n",
        "\n",
        "# Calculate the means and covariates return\n",
        "mu = data.get_period_return_mean_vector()\n",
        "sigma = data.get_period_return_covariance_matrix()"
      ],
      "execution_count": null,
      "outputs": []
    },
    {
      "cell_type": "code",
      "metadata": {
        "id": "Fl9D31XgP12b"
      },
      "source": [
        "for (cnt, s) in enumerate(data._tickers):\n",
        "    plt.plot(data._data[cnt], label=s)\n",
        "plt.legend()\n",
        "plt.xticks(rotation=90)\n",
        "plt.show()"
      ],
      "execution_count": null,
      "outputs": []
    },
    {
      "cell_type": "code",
      "metadata": {
        "id": "rYfVcxhuVSVZ"
      },
      "source": [
        "# Set the parameters\n",
        "\n",
        "q = 0.5 # set risk factor\n",
        "num_assets = len(stocks)\n",
        "budget = int(num_assets / 2) # set budget"
      ],
      "execution_count": null,
      "outputs": []
    },
    {
      "cell_type": "markdown",
      "metadata": {
        "id": "zb4BAFD_gUc1"
      },
      "source": [
        "### Building the QUBO representation of the problem"
      ]
    },
    {
      "cell_type": "code",
      "metadata": {
        "id": "P1JQuIkVgTSX"
      },
      "source": [
        "mdl = Model(\"docplex model\")\n",
        "N = range(0,num_assets)\n",
        "idz = [i for i in N]\n",
        "z = mdl.binary_var_dict(idz)\n",
        "\n",
        "# Add the constraint with the budget\n",
        "mdl.add_constraint(mdl.sum(z[x] for x in range(0,num_assets)) == budget)\n",
        "\n",
        "# Objective function to minimize \n",
        "mdl.minimize(mdl.sum(q*z[x]*2*sigma[x,y]*z[y] - mu[x]*z[x] for (x,y) in itertools.product(list(range(0,num_assets)), repeat=2)))\n",
        "\n",
        "mod = QuadraticProgram()\n",
        "mod.from_docplex(mdl)\n",
        "print(mod.export_as_lp_string())"
      ],
      "execution_count": null,
      "outputs": []
    },
    {
      "cell_type": "markdown",
      "metadata": {
        "id": "B5xqPzoCFUjm"
      },
      "source": [
        "### Constraints to penality"
      ]
    },
    {
      "cell_type": "code",
      "metadata": {
        "id": "O_UafZRVFoC9"
      },
      "source": [
        "# Here the linear constraints are added to the penalty to have a Quadratic Unconstrained Binary Optimization problem. \n",
        "\n",
        "lineq2penalty = LinearEqualityToPenalty()\n",
        "qubo = lineq2penalty.encode(mod,penalty_factor=1e2)\n",
        "print(qubo.export_as_lp_string())"
      ],
      "execution_count": null,
      "outputs": []
    },
    {
      "cell_type": "code",
      "metadata": {
        "id": "et3DDHmcFsmK"
      },
      "source": [
        "# We build the resulting Ising Hamiltonian from the QUBO above\n",
        "\n",
        "qp2op = QuadraticProgramToIsing()\n",
        "op, offset = qp2op.encode(qubo)\n",
        "print('offset: {}'.format(offset))\n",
        "print('operator:')\n",
        "print(op.print_details())"
      ],
      "execution_count": null,
      "outputs": []
    },
    {
      "cell_type": "markdown",
      "metadata": {
        "id": "Kn5266wnlwif"
      },
      "source": [
        "### Solution with classical ML method"
      ]
    },
    {
      "cell_type": "code",
      "metadata": {
        "id": "6SEwLwsyGC88"
      },
      "source": [
        "exact_mes = NumPyMinimumEigensolver()\n",
        "exact = MinimumEigenOptimizer(exact_mes)  # using the exact classical numpy minimum eigen solver\n",
        "exact_result = exact.solve(qubo)\n",
        "print(exact_result)"
      ],
      "execution_count": null,
      "outputs": []
    },
    {
      "cell_type": "code",
      "metadata": {
        "id": "iOY1b2u1oTNX"
      },
      "source": [
        "ml_solution = [1,2,3] # the solution returned\n",
        "stocks = np.array(stocks)\n",
        "print(\"The assets to invest in, given the stock prices, the risk factor and the budget, are\")\n",
        "print(*stocks[ml_solution],sep=\", \")"
      ],
      "execution_count": null,
      "outputs": []
    },
    {
      "cell_type": "markdown",
      "metadata": {
        "id": "F6vxGwDQl3s6"
      },
      "source": [
        "### Solution with QAOA"
      ]
    },
    {
      "cell_type": "code",
      "metadata": {
        "id": "oIl1Z2iEGcFQ"
      },
      "source": [
        "qaoa_mes = QAOA(quantum_instance=BasicAer.get_backend('qasm_simulator'))\n",
        "qaoa = MinimumEigenOptimizer(qaoa_mes)   # using QAOA\n",
        "qaoa_result = qaoa.solve(qubo)\n",
        "print(qaoa_result)"
      ],
      "execution_count": null,
      "outputs": []
    },
    {
      "cell_type": "code",
      "metadata": {
        "id": "rdT9lAJ1qXSr"
      },
      "source": [
        "qaoa_solution = [1,2,3] # the solution returned\n",
        "print(\"The assets to invest in, given the stock prices, the risk factor and the budget, are\")\n",
        "print(*stocks[qaoa_solution],sep=\", \")"
      ],
      "execution_count": null,
      "outputs": []
    },
    {
      "cell_type": "markdown",
      "metadata": {
        "id": "aOyFufJll-3P"
      },
      "source": [
        "### Accuracy of the solution"
      ]
    },
    {
      "cell_type": "code",
      "metadata": {
        "id": "Agi4Gl6lfarl"
      },
      "source": [
        "# Oracle is ORCL, Accenture is ACN, Hewlett Packard Enterprise is HPE, Cognizant is CTSH and Microsoft Corporation is MSFT\n",
        "\n",
        "stocks = [\"IBM\",\"MSFT\",\"ACN\",\"ORCL\",\"HPE\",\"TCS\",\"CTSH\"]\n",
        "\n",
        "# Extract free available stock price data from quandl, from 01.01.2018 to 31.03.2018\n",
        "\n",
        "data_test = WikipediaDataProvider(token='jw64yRHHgx8L-cYm_8_3',tickers=stocks, start=datetime.datetime(2018,1,1), end=datetime.datetime(2018,3,31))\n",
        "data_test.run()"
      ],
      "execution_count": null,
      "outputs": []
    },
    {
      "cell_type": "code",
      "metadata": {
        "id": "nfIr303RVat0"
      },
      "source": [
        "for (cnt, s) in enumerate(data_test._tickers):\n",
        "    plt.plot(data_test._data[cnt], label=s)\n",
        "plt.legend()\n",
        "plt.xticks(rotation=90)\n",
        "plt.show()"
      ],
      "execution_count": null,
      "outputs": []
    },
    {
      "cell_type": "code",
      "metadata": {
        "id": "VmS74lzDd3jT"
      },
      "source": [
        "#Return the mean return per day\n",
        "\n",
        "x = [0,1,1,1,0,0,0] # the solution returned\n",
        "weights = data_test.get_mean_vector()\n",
        "mu_test = data_test.get_period_return_mean_vector()\n",
        "\n",
        "portfolio_return_per_day = np.sum(mu_test[x] * weights[x])\n",
        "portfolio_return_per_day"
      ],
      "execution_count": null,
      "outputs": []
    }
  ]
}